{
  "nbformat": 4,
  "nbformat_minor": 0,
  "metadata": {
    "colab": {
      "name": "Untitled2.ipynb",
      "provenance": [],
      "authorship_tag": "ABX9TyN/o4yq++qGPIs3FgVlEa/O",
      "include_colab_link": true
    },
    "kernelspec": {
      "name": "python3",
      "display_name": "Python 3"
    },
    "language_info": {
      "name": "python"
    },
    "accelerator": "GPU"
  },
  "cells": [
    {
      "cell_type": "markdown",
      "metadata": {
        "id": "view-in-github",
        "colab_type": "text"
      },
      "source": [
        "<a href=\"https://colab.research.google.com/github/to302/pytorch_ex/blob/main/gan_firststep/ch4_cuda.ipynb\" target=\"_parent\"><img src=\"https://colab.research.google.com/assets/colab-badge.svg\" alt=\"Open In Colab\"/></a>"
      ]
    },
    {
      "cell_type": "code",
      "metadata": {
        "id": "-ObtPV6gLOtP"
      },
      "source": [
        "import torch\n",
        "import numpy"
      ],
      "execution_count": 2,
      "outputs": []
    },
    {
      "cell_type": "code",
      "metadata": {
        "id": "IatapsHfFXru"
      },
      "source": [
        "size=600\n",
        "\n",
        "a = numpy.random.rand(size, size)\n",
        "b = numpy.random.rand(size, size)"
      ],
      "execution_count": 4,
      "outputs": []
    },
    {
      "cell_type": "code",
      "metadata": {
        "colab": {
          "base_uri": "https://localhost:8080/"
        },
        "id": "SRQojoG0FnCq",
        "outputId": "c4f54811-7059-47ca-b26b-8b78e11e2ea5"
      },
      "source": [
        "%%timeit\n",
        "\n",
        "x = numpy.dot(a, b)"
      ],
      "execution_count": 2,
      "outputs": [
        {
          "output_type": "stream",
          "name": "stdout",
          "text": [
            "100 loops, best of 5: 14.9 ms per loop\n"
          ]
        }
      ]
    },
    {
      "cell_type": "code",
      "metadata": {
        "colab": {
          "base_uri": "https://localhost:8080/"
        },
        "id": "_MUe8GmLF10i",
        "outputId": "4df1277b-9911-4649-c652-897d30b0bf31"
      },
      "source": [
        "aa = torch.cuda.FloatTensor(a)\n",
        "bb = torch.cuda.FloatTensor(b)\n",
        "\n",
        "DEVICE = 'cuda' if torch.cuda.is_available() else 'cpu'\n",
        "\n",
        "a1 = torch.FloatTensor(a)\n",
        "a2 = a1.to(DEVICE)\n",
        "\n",
        "print(aa.device, a1.device, a2.device)"
      ],
      "execution_count": 9,
      "outputs": [
        {
          "output_type": "stream",
          "name": "stdout",
          "text": [
            "cuda:0 cpu cuda:0\n"
          ]
        }
      ]
    },
    {
      "cell_type": "code",
      "metadata": {
        "colab": {
          "base_uri": "https://localhost:8080/"
        },
        "id": "7ODHcgGKNO0Z",
        "outputId": "7a3b4940-ff36-484d-e3ea-918571bdb736"
      },
      "source": [
        "%%timeit\n",
        "cc = torch.matmul(aa, bb)"
      ],
      "execution_count": 10,
      "outputs": [
        {
          "output_type": "stream",
          "name": "stdout",
          "text": [
            "The slowest run took 90.96 times longer than the fastest. This could mean that an intermediate result is being cached.\n",
            "10000 loops, best of 5: 278 µs per loop\n"
          ]
        }
      ]
    }
  ]
}