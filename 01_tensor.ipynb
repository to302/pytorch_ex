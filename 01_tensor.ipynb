{
  "nbformat": 4,
  "nbformat_minor": 0,
  "metadata": {
    "colab": {
      "name": "01_tensor.ipynb",
      "provenance": [],
      "authorship_tag": "ABX9TyMvofbkfT83Ew7+Dl081bXH",
      "include_colab_link": true
    },
    "kernelspec": {
      "name": "python3",
      "display_name": "Python 3"
    },
    "language_info": {
      "name": "python"
    }
  },
  "cells": [
    {
      "cell_type": "markdown",
      "metadata": {
        "id": "view-in-github",
        "colab_type": "text"
      },
      "source": [
        "<a href=\"https://colab.research.google.com/github/to302/pytorch_ex/blob/main/01_tensor.ipynb\" target=\"_parent\"><img src=\"https://colab.research.google.com/assets/colab-badge.svg\" alt=\"Open In Colab\"/></a>"
      ]
    },
    {
      "cell_type": "markdown",
      "metadata": {
        "id": "VxyYL4OwtITT"
      },
      "source": [
        "## 텐서(Tensor)\n",
        "https://tutorials.pytorch.kr/beginner/basics/tensorqs_tutorial.html  "
      ]
    },
    {
      "cell_type": "code",
      "metadata": {
        "id": "xOx5lYFas46d"
      },
      "source": [
        "import torch\n",
        "import numpy as np"
      ],
      "execution_count": 1,
      "outputs": []
    }
  ]
}